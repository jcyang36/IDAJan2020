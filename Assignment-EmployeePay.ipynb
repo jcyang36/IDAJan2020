{
 "cells": [
  {
   "cell_type": "code",
   "execution_count": 9,
   "metadata": {},
   "outputs": [
    {
     "name": "stdout",
     "output_type": "stream",
     "text": [
      "Mary 600.0\n",
      "John 550.0\n",
      "Bob 140.0\n",
      "Mel 3139.0\n",
      "Jen 561.0\n",
      "Sue 1377.5\n",
      "Ken 1440.0\n",
      "Dave 340.0\n",
      "Beth 1369.0\n",
      "Ray 1650.0\n"
     ]
    }
   ],
   "source": [
    "count=0\n",
    "employeePay=0\n",
    "employee0={'name':'Mary','payRate':'15.00','hoursWorked':'40'}\n",
    "employee1={'name':'John','payRate':'22.00','hoursWorked':'25'}\n",
    "employee2={'name':'Bob','payRate':'35.00','hoursWorked':'4'}\n",
    "employee3={'name':'Mel','payRate':'43.00','hoursWorked':'62'}\n",
    "employee4={'name':'Jen','payRate':'17.00','hoursWorked':'33'}\n",
    "employee5={'name':'Sue','payRate':'29.00','hoursWorked':'45'}\n",
    "employee6={'name':'Ken','payRate':'40.00','hoursWorked':'36'}\n",
    "employee7={'name':'Dave','payRate':'20.00','hoursWorked':'17'}\n",
    "employee8={'name':'Beth','payRate':'37.00','hoursWorked':'37'}\n",
    "employee9={'name':'Ray','payRate':'16.50','hoursWorked':'80'}\n",
    "employees=[employee0,employee1,employee2,employee3,employee4,employee5,employee6,employee7,employee8,employee9]\n",
    "while count<10:\n",
    "    employee=employees[count]\n",
    "    if float(employee['hoursWorked'])<41:\n",
    "        employeePay=float(employee['payRate'])*float(employee['hoursWorked'])\n",
    "    if float(employee['hoursWorked'])>40:\n",
    "        basePay=float(employee['payRate'])*40.00\n",
    "        overtimeHours=(float(employee['hoursWorked'])-40.00)\n",
    "        employeePay=basePay+float(employee['payRate'])*overtimeHours*1.5\n",
    "    print(employee['name']+' '+str(employeePay))\n",
    "    count+=1\n",
    "        "
   ]
  },
  {
   "cell_type": "code",
   "execution_count": null,
   "metadata": {},
   "outputs": [],
   "source": []
  }
 ],
 "metadata": {
  "kernelspec": {
   "display_name": "Python 3",
   "language": "python",
   "name": "python3"
  },
  "language_info": {
   "codemirror_mode": {
    "name": "ipython",
    "version": 3
   },
   "file_extension": ".py",
   "mimetype": "text/x-python",
   "name": "python",
   "nbconvert_exporter": "python",
   "pygments_lexer": "ipython3",
   "version": "3.7.3"
  }
 },
 "nbformat": 4,
 "nbformat_minor": 2
}
